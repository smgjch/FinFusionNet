{
 "cells": [
  {
   "cell_type": "code",
   "execution_count": 1,
   "metadata": {},
   "outputs": [],
   "source": [
    "from data_provider import data_factory,data_loader\n",
    "import numpy as np"
   ]
  },
  {
   "cell_type": "code",
   "execution_count": 6,
   "metadata": {},
   "outputs": [
    {
     "name": "stdout",
     "output_type": "stream",
     "text": [
      "Variance of the target: 6.87907789471551e-06\n"
     ]
    }
   ],
   "source": [
    "import pandas as pd\n",
    "import numpy as np\n",
    "\n",
    "# Read the CSV file\n",
    "df = pd.read_csv('/root/code/FinFusionNet/dataset/btc/btc_cv.csv')  # Replace 'your_data.csv' with your actual file name\n",
    "\n",
    "# Extract the target column\n",
    "target = df['range5']\n",
    "\n",
    "# Calculate the variance of the target data\n",
    "variance = np.var(target)\n",
    "\n",
    "# Print the variance\n",
    "print(f\"Variance of the target: {variance}\")\n"
   ]
  },
  {
   "cell_type": "code",
   "execution_count": 1,
   "metadata": {},
   "outputs": [],
   "source": [
    "from torch_geometric.nn import GCNConv\n"
   ]
  },
  {
   "cell_type": "code",
   "execution_count": null,
   "metadata": {},
   "outputs": [],
   "source": [
    "np.corrcoef"
   ]
  },
  {
   "cell_type": "code",
   "execution_count": 7,
   "metadata": {},
   "outputs": [
    {
     "data": {
      "text/plain": [
       "array([[1., 1.],\n",
       "       [1., 1.]])"
      ]
     },
     "execution_count": 7,
     "metadata": {},
     "output_type": "execute_result"
    }
   ],
   "source": [
    "a = [[1,2,3,4],\n",
    "     [4,5,6,7]]\n",
    "np.corrcoef(a)"
   ]
  },
  {
   "cell_type": "code",
   "execution_count": 11,
   "metadata": {},
   "outputs": [
    {
     "data": {
      "text/plain": [
       "(4, 2)"
      ]
     },
     "execution_count": 11,
     "metadata": {},
     "output_type": "execute_result"
    }
   ],
   "source": [
    "a = np.array(a).T\n",
    "a.shape"
   ]
  },
  {
   "cell_type": "code",
   "execution_count": 2,
   "metadata": {},
   "outputs": [],
   "source": [
    "import argparse\n",
    "args = argparse.Namespace()\n",
    "args.augmentation_ratio = 0    "
   ]
  },
  {
   "cell_type": "code",
   "execution_count": 10,
   "metadata": {},
   "outputs": [],
   "source": [
    "testset = data_loader.m4Dataset_btc(args,scale=False,\n",
    "        data_path='btc_t_v_withf4.csv',flag=\"train\",size=[128,0,1])\n"
   ]
  },
  {
   "cell_type": "code",
   "execution_count": 9,
   "metadata": {},
   "outputs": [
    {
     "data": {
      "text/plain": [
       "(96, 138)"
      ]
     },
     "execution_count": 9,
     "metadata": {},
     "output_type": "execute_result"
    }
   ],
   "source": [
    "testset[10][0].shape"
   ]
  },
  {
   "cell_type": "code",
   "execution_count": 10,
   "metadata": {},
   "outputs": [
    {
     "data": {
      "text/plain": [
       "(96, 1)"
      ]
     },
     "execution_count": 10,
     "metadata": {},
     "output_type": "execute_result"
    }
   ],
   "source": [
    "testset[0][1].shape"
   ]
  },
  {
   "cell_type": "code",
   "execution_count": 12,
   "metadata": {},
   "outputs": [],
   "source": [
    "import re\n",
    "import matplotlib.pyplot as plt\n",
    "import numpy as np\n",
    "\n",
    "def extract_data_from_text(file_path):\n",
    "    with open(file_path, 'r') as file:\n",
    "        lines = file.readlines()\n",
    "\n",
    "    blocks = []\n",
    "    current_block = []\n",
    "    for line in lines:\n",
    "        if \"Args in experiment:\" in line and current_block:\n",
    "            blocks.append(current_block)\n",
    "            current_block = []\n",
    "        current_block.append(line)\n",
    "    if current_block:\n",
    "        blocks.append(current_block)\n",
    "\n",
    "    block_names = []\n",
    "    avg_val_ic_values = []\n",
    "    avg_test_ic_values = []\n",
    "    std_val_ic_values = []\n",
    "    std_test_ic_values = []\n",
    "\n",
    "    for block in blocks:\n",
    "        block_text = \"\".join(block)\n",
    "        model_match = re.search(r\"Model:\\s*(\\S+)\", block_text)\n",
    "\n",
    "        val_ic_matches = re.findall(r\"val ic:\\s*([0-9.-]+)\", block_text)\n",
    "        test_ic_matches = re.findall(r\"test ic:\\s*([0-9.-]+)\", block_text)\n",
    "\n",
    "        if model_match and val_ic_matches and test_ic_matches:\n",
    "            block_names.append(model_match.group(1))\n",
    "            val_ic_floats = [float(value) for value in val_ic_matches]\n",
    "            test_ic_floats = [float(value) for value in test_ic_matches]\n",
    "\n",
    "            avg_val_ic_values.append(np.mean(val_ic_floats))\n",
    "            avg_test_ic_values.append(np.mean(test_ic_floats))\n",
    "            std_val_ic_values.append(np.std(val_ic_floats))\n",
    "            std_test_ic_values.append(np.std(test_ic_floats))\n",
    "\n",
    "    return block_names, avg_val_ic_values, avg_test_ic_values, std_val_ic_values, std_test_ic_values\n",
    "\n",
    "def plot_ic_values(block_names, avg_val_ic_values, avg_test_ic_values, std_val_ic_values, std_test_ic_values):\n",
    "    for i, name in enumerate(block_names):\n",
    "        print(f'Block: {name}')\n",
    "        print(f'Average val ic: {avg_val_ic_values[i]}, Std val ic: {std_val_ic_values[i]}')\n",
    "        print(f'Average test ic: {avg_test_ic_values[i]}, Std test ic: {std_test_ic_values[i]}')\n",
    "        print('-' * 50)\n",
    "\n",
    "    plt.figure(figsize=(10, 6))\n",
    "\n",
    "    for i, name in enumerate(block_names):\n",
    "        plt.scatter(i, avg_val_ic_values[i], color='blue', label='val ic' if i == 0 else \"\")\n",
    "        plt.scatter(i, avg_test_ic_values[i], color='red', label='test ic' if i == 0 else \"\")\n",
    "        plt.text(i, avg_val_ic_values[i], f'{name}_val', fontsize=9, ha='right')\n",
    "        plt.text(i, avg_test_ic_values[i], f'{name}_test', fontsize=9, ha='right')\n",
    "\n",
    "    plt.xlabel(\"Block Index\")\n",
    "    plt.ylabel(\"IC Value\")\n",
    "    plt.title(\"Average val ic and test ic values for each block\")\n",
    "    plt.legend()\n",
    "    plt.show()\n",
    "file_path = 'log_overall_arch.txt'  # Replace with the actual file path\n",
    "\n",
    "# block_names, avg_val_ic_values, avg_test_ic_values, std_val_ic_values, std_test_ic_values = extract_data_from_text(file_path)\n",
    "# plot_ic_values(block_names, avg_val_ic_values, avg_test_ic_values, std_val_ic_values, std_test_ic_values)\n"
   ]
  },
  {
   "cell_type": "code",
   "execution_count": 1,
   "metadata": {},
   "outputs": [],
   "source": [
    "from models.MLPs import Baseline_5,Baseline_10,Baseline_15,Baseline_20,Baseline_25\n",
    "import torch\n",
    "from collections import OrderedDict\n",
    "import numpy as np\n",
    "import torch\n",
    "import torch.nn as nn"
   ]
  },
  {
   "cell_type": "code",
   "execution_count": null,
   "metadata": {},
   "outputs": [],
   "source": [
    "nn.LSTM"
   ]
  },
  {
   "cell_type": "code",
   "execution_count": null,
   "metadata": {},
   "outputs": [],
   "source": [
    "\n",
    "self.encoder_layer = nn.TransformerEncoderLayer(d_model=input_size, nhead=3, dim_feedforward=512)\n",
    "self.transformer_encoder = nn.TransformerEncoder(self.encoder_layer, num_layers=1)\n"
   ]
  },
  {
   "cell_type": "code",
   "execution_count": 22,
   "metadata": {},
   "outputs": [],
   "source": [
    "def custom_summary(model, *inputs):\n",
    "    def forward_hook(module, input, output):\n",
    "        class_name = str(module.__class__).split(\".\")[-1].split(\"'\")[0]\n",
    "        module_idx = len(summary)\n",
    "\n",
    "        m_key = \"%s-%i\" % (class_name, module_idx + 1)\n",
    "        summary[m_key] = OrderedDict()\n",
    "        summary[m_key][\"input_shape\"] = list(input[0].size())\n",
    "        summary[m_key][\"output_shape\"] = list(output.size())\n",
    "        \n",
    "        params = 0\n",
    "        if hasattr(module, \"weight\") and hasattr(module.weight, \"size\"):\n",
    "            params += torch.prod(torch.LongTensor(list(module.weight.size())))\n",
    "            summary[m_key][\"trainable\"] = module.weight.requires_grad\n",
    "        if hasattr(module, \"bias\") and hasattr(module.bias, \"size\"):\n",
    "            params += torch.prod(torch.LongTensor(list(module.bias.size())))\n",
    "        summary[m_key][\"nb_params\"] = params\n",
    "\n",
    "    def register_hook(module):\n",
    "        if (\n",
    "            not isinstance(module, nn.Sequential)\n",
    "            and not isinstance(module, nn.ModuleList)\n",
    "            and not (module == model)\n",
    "        ):\n",
    "            hooks.append(module.register_forward_hook(forward_hook))\n",
    "\n",
    "    device = next(model.parameters()).device\n",
    "    dtype = next(model.parameters()).dtype\n",
    "\n",
    "    batch_size = inputs[0].size(0)\n",
    "    summary = OrderedDict()\n",
    "    hooks = []\n",
    "\n",
    "    model.apply(register_hook)\n",
    "    model(*inputs)\n",
    "\n",
    "    for h in hooks:\n",
    "        h.remove()\n",
    "\n",
    "    print(\"----------------------------------------------------------------\")\n",
    "    print(\"Layer (type)               Output Shape         Param #\")\n",
    "    print(\"================================================================\")\n",
    "    total_params = 0\n",
    "    for layer in summary:\n",
    "        line_new = \"{:30}  {:25} {:15}\".format(\n",
    "            layer,\n",
    "            str(summary[layer][\"output_shape\"]),\n",
    "            \"{0:,}\".format(summary[layer][\"nb_params\"]),\n",
    "        )\n",
    "        total_params += summary[layer][\"nb_params\"]\n",
    "        print(line_new)\n",
    "\n",
    "    print(\"================================================================\")\n",
    "    print(\"Total params: {0:,}\".format(total_params))\n",
    "    print(\"----------------------------------------------------------------\")\n"
   ]
  },
  {
   "cell_type": "code",
   "execution_count": 23,
   "metadata": {},
   "outputs": [
    {
     "name": "stdout",
     "output_type": "stream",
     "text": [
      "----------------------------------------------------------------\n",
      "Layer (type)               Output Shape         Param #\n",
      "================================================================\n",
      "Linear-1                        [1024, 1, 64]             8,896          \n",
      "ReLU-2                          [1024, 1, 64]             0              \n",
      "Linear-3                        [1024, 1, 32]             2,080          \n",
      "ReLU-4                          [1024, 1, 32]             0              \n",
      "Linear-5                        [1024, 1, 16]             528            \n",
      "ReLU-6                          [1024, 1, 16]             0              \n",
      "Linear-7                        [1024, 1, 8]              136            \n",
      "ReLU-8                          [1024, 1, 8]              0              \n",
      "Linear-9                        [1024, 1, 4]              36             \n",
      "ReLU-10                         [1024, 1, 4]              0              \n",
      "Linear-11                       [1024, 1, 2]              10             \n",
      "ReLU-12                         [1024, 1, 2]              0              \n",
      "Linear-13                       [1024, 1, 1]              3              \n",
      "================================================================\n",
      "Total params: 11,689\n",
      "----------------------------------------------------------------\n"
     ]
    }
   ],
   "source": [
    "input1 = torch.randn(1024,1, 138)\n",
    "model = Baseline_5.Model()\n",
    "\n",
    "custom_summary(model, input1, 0,0,0)\n"
   ]
  },
  {
   "cell_type": "code",
   "execution_count": null,
   "metadata": {},
   "outputs": [],
   "source": [
    "self.pool1d = nn.MaxPool1d(kernel_size=2)\n"
   ]
  },
  {
   "cell_type": "code",
   "execution_count": 24,
   "metadata": {},
   "outputs": [
    {
     "name": "stdout",
     "output_type": "stream",
     "text": [
      "----------------------------------------------------------------\n",
      "Layer (type)               Output Shape         Param #\n",
      "================================================================\n",
      "Linear-1                        [2, 1, 256]               35,584         \n",
      "BatchNorm1d-2                   [2, 256, 1]               512            \n",
      "ReLU-3                          [2, 1, 256]               0              \n",
      "Linear-4                        [2, 1, 518]               133,126        \n",
      "BatchNorm1d-5                   [2, 518, 1]               1,036          \n",
      "ReLU-6                          [2, 1, 518]               0              \n",
      "Linear-7                        [2, 1, 1024]              531,456        \n",
      "BatchNorm1d-8                   [2, 1024, 1]              2,048          \n",
      "ReLU-9                          [2, 1, 1024]              0              \n",
      "Linear-10                       [2, 1, 2048]              2,099,200      \n",
      "BatchNorm1d-11                  [2, 2048, 1]              4,096          \n",
      "ReLU-12                         [2, 1, 2048]              0              \n",
      "Linear-13                       [2, 1, 4096]              8,392,704      \n",
      "BatchNorm1d-14                  [2, 4096, 1]              8,192          \n",
      "ReLU-15                         [2, 1, 4096]              0              \n",
      "Linear-16                       [2, 1, 4096]              569,344        \n",
      "Linear-17                       [2, 1, 8192]              33,562,624     \n",
      "BatchNorm1d-18                  [2, 8192, 1]              16,384         \n",
      "ReLU-19                         [2, 1, 8192]              0              \n",
      "Linear-20                       [2, 1, 16384]             134,234,112    \n",
      "BatchNorm1d-21                  [2, 16384, 1]             32,768         \n",
      "ReLU-22                         [2, 1, 16384]             0              \n",
      "Linear-23                       [2, 1, 8192]              134,225,920    \n",
      "BatchNorm1d-24                  [2, 8192, 1]              16,384         \n",
      "ReLU-25                         [2, 1, 8192]              0              \n",
      "Linear-26                       [2, 1, 4096]              33,558,528     \n",
      "BatchNorm1d-27                  [2, 4096, 1]              8,192          \n",
      "ReLU-28                         [2, 1, 4096]              0              \n",
      "Linear-29                       [2, 1, 2048]              8,390,656      \n",
      "BatchNorm1d-30                  [2, 2048, 1]              4,096          \n",
      "ReLU-31                         [2, 1, 2048]              0              \n",
      "Linear-32                       [2, 1, 2048]              8,390,656      \n",
      "Linear-33                       [2, 1, 1024]              2,098,176      \n",
      "BatchNorm1d-34                  [2, 1024, 1]              2,048          \n",
      "ReLU-35                         [2, 1, 1024]              0              \n",
      "Linear-36                       [2, 1, 518]               530,950        \n",
      "BatchNorm1d-37                  [2, 518, 1]               1,036          \n",
      "ReLU-38                         [2, 1, 518]               0              \n",
      "Linear-39                       [2, 1, 256]               132,864        \n",
      "BatchNorm1d-40                  [2, 256, 1]               512            \n",
      "ReLU-41                         [2, 1, 256]               0              \n",
      "Linear-42                       [2, 1, 128]               32,896         \n",
      "BatchNorm1d-43                  [2, 128, 1]               256            \n",
      "ReLU-44                         [2, 1, 128]               0              \n",
      "Linear-45                       [2, 1, 64]                8,256          \n",
      "BatchNorm1d-46                  [2, 64, 1]                128            \n",
      "ReLU-47                         [2, 1, 64]                0              \n",
      "Linear-48                       [2, 1, 64]                131,136        \n",
      "Linear-49                       [2, 1, 32]                2,080          \n",
      "BatchNorm1d-50                  [2, 32, 1]                64             \n",
      "ReLU-51                         [2, 1, 32]                0              \n",
      "Linear-52                       [2, 1, 16]                528            \n",
      "BatchNorm1d-53                  [2, 16, 1]                32             \n",
      "ReLU-54                         [2, 1, 16]                0              \n",
      "Linear-55                       [2, 1, 8]                 136            \n",
      "BatchNorm1d-56                  [2, 8, 1]                 16             \n",
      "ReLU-57                         [2, 1, 8]                 0              \n",
      "Linear-58                       [2, 1, 4]                 36             \n",
      "BatchNorm1d-59                  [2, 4, 1]                 8              \n",
      "ReLU-60                         [2, 1, 4]                 0              \n",
      "Linear-61                       [2, 1, 2]                 10             \n",
      "BatchNorm1d-62                  [2, 2, 1]                 4              \n",
      "ReLU-63                         [2, 1, 2]                 0              \n",
      "Linear-64                       [2, 1, 2]                 130            \n",
      "Linear-65                       [2, 1, 1]                 3              \n",
      "================================================================\n",
      "Total params: 367,158,923\n",
      "----------------------------------------------------------------\n"
     ]
    }
   ],
   "source": [
    "input1 = torch.randn(2,1, 138)\n",
    "model = Baseline_25.Model()\n",
    "\n",
    "custom_summary(model, input1, 0,0,0)\n"
   ]
  },
  {
   "cell_type": "code",
   "execution_count": null,
   "metadata": {},
   "outputs": [],
   "source": []
  },
  {
   "cell_type": "code",
   "execution_count": 2,
   "metadata": {},
   "outputs": [
    {
     "name": "stdout",
     "output_type": "stream",
     "text": [
      "Sliced tensor 0 shape: torch.Size([5, 5, 5])\n",
      "Sliced tensor 1 shape: torch.Size([5, 5, 5])\n",
      "Sliced tensor 2 shape: torch.Size([5, 5, 5])\n",
      "Sliced tensor 3 shape: torch.Size([5, 5, 5])\n",
      "Sliced tensor 4 shape: torch.Size([5, 5, 5])\n",
      "Sliced tensor 5 shape: torch.Size([5, 5, 5])\n",
      "Sliced tensor 6 shape: torch.Size([5, 5, 5])\n",
      "Sliced tensor 7 shape: torch.Size([5, 5, 5])\n",
      "Sliced tensor 8 shape: torch.Size([5, 5, 5])\n",
      "Sliced tensor 9 shape: torch.Size([5, 5, 5])\n",
      "Sliced tensor 10 shape: torch.Size([5, 5, 5])\n",
      "Sliced tensor 11 shape: torch.Size([5, 5, 5])\n",
      "Sliced tensor 12 shape: torch.Size([5, 5, 5])\n",
      "Sliced tensor 13 shape: torch.Size([5, 5, 5])\n",
      "Sliced tensor 14 shape: torch.Size([5, 5, 5])\n",
      "Sliced tensor 15 shape: torch.Size([5, 5, 5])\n",
      "Sliced tensor 16 shape: torch.Size([5, 5, 5])\n",
      "Sliced tensor 17 shape: torch.Size([5, 5, 5])\n",
      "Sliced tensor 18 shape: torch.Size([5, 5, 5])\n",
      "Sliced tensor 19 shape: torch.Size([5, 5, 5])\n",
      "Sliced tensor 20 shape: torch.Size([5, 5, 5])\n",
      "Sliced tensor 21 shape: torch.Size([5, 5, 5])\n",
      "Sliced tensor 22 shape: torch.Size([5, 5, 5])\n",
      "Sliced tensor 23 shape: torch.Size([5, 5, 5])\n",
      "Sliced tensor 24 shape: torch.Size([5, 5, 5])\n",
      "Sliced tensor 25 shape: torch.Size([5, 5, 5])\n",
      "Sliced tensor 26 shape: torch.Size([5, 5, 5])\n",
      "Sliced tensor 27 shape: torch.Size([5, 5, 5])\n",
      "Sliced tensor 28 shape: torch.Size([5, 5, 5])\n",
      "Sliced tensor 29 shape: torch.Size([5, 5, 5])\n",
      "Sliced tensor 30 shape: torch.Size([5, 5, 5])\n",
      "Sliced tensor 31 shape: torch.Size([5, 5, 5])\n",
      "Sliced tensor 32 shape: torch.Size([5, 5, 5])\n",
      "Sliced tensor 33 shape: torch.Size([5, 5, 5])\n",
      "Sliced tensor 34 shape: torch.Size([5, 5, 5])\n",
      "Sliced tensor 35 shape: torch.Size([5, 5, 5])\n"
     ]
    }
   ],
   "source": [
    "import torch\n",
    "\n",
    "def sliding_window_slice(tensor, window_size, stride=1):\n",
    "    \"\"\"\n",
    "    Performs sliding window slicing on a PyTorch tensor.\n",
    "    \n",
    "    Args:\n",
    "        tensor (torch.Tensor): The input tensor of shape (n, x, y).\n",
    "        window_size (int): The size of the sliding window.\n",
    "        stride (int): The stride of the sliding window.\n",
    "\n",
    "    Returns:\n",
    "        List[torch.Tensor]: List of sliced tensors.\n",
    "    \"\"\"\n",
    "    n, x, y = tensor.shape\n",
    "    sliced_tensors = []\n",
    "\n",
    "    for i in range(0, x - window_size + 1, stride):\n",
    "        for j in range(0, y - window_size + 1, stride):\n",
    "            slice_ = tensor[:, i:i + window_size, j:j + window_size]\n",
    "            sliced_tensors.append(slice_)\n",
    "\n",
    "    return sliced_tensors\n",
    "\n",
    "# Example usage:\n",
    "tensor = torch.randn(5, 10, 10)  # Example tensor with shape (n, x, y)\n",
    "window_size = 5\n",
    "stride = 1\n",
    "sliced_tensors = sliding_window_slice(tensor, window_size, stride)\n",
    "\n",
    "# Print the shapes of the sliced tensors\n",
    "for idx, st in enumerate(sliced_tensors):\n",
    "    print(f\"Sliced tensor {idx} shape: {st.shape}\")\n"
   ]
  },
  {
   "cell_type": "code",
   "execution_count": null,
   "metadata": {},
   "outputs": [],
   "source": [
    "class TransformerRegressor(nn.Module):\n",
    "    def __init__(self, input_dim, output_dim, nhead, num_encoder_layers, dim_feedforward):\n",
    "        super(TransformerRegressor, self).__init__()\n",
    "        self.encoder_layer = nn.TransformerEncoderLayer(d_model=input_dim, nhead=nhead, dim_feedforward=dim_feedforward)\n",
    "        self.transformer_encoder = nn.TransformerEncoder(self.encoder_layer, num_layers=num_encoder_layers)\n",
    "        self.regressor = nn.Linear(input_dim, output_dim)\n",
    "\n",
    "    def forward(self, x):\n",
    "        x = self.transformer_encoder(x)\n",
    "        x = self.regressor(x[-1])  # use the last time step\n",
    "        return x"
   ]
  },
  {
   "cell_type": "code",
   "execution_count": 24,
   "metadata": {},
   "outputs": [],
   "source": [
    "import pandas as pd\n",
    "import numpy as np\n",
    "\n",
    "\n",
    "# Load the CSV file\n",
    "csv_file = '/root/code/FinFusionNet/dataset/btc/btc_t_v_withf4ct.csv'  # Replace with your CSV file path\n",
    "data = pd.read_csv(csv_file)"
   ]
  },
  {
   "cell_type": "code",
   "execution_count": 25,
   "metadata": {},
   "outputs": [
    {
     "data": {
      "text/plain": [
       "(500000, 141)"
      ]
     },
     "execution_count": 25,
     "metadata": {},
     "output_type": "execute_result"
    }
   ],
   "source": [
    "data.shape"
   ]
  },
  {
   "cell_type": "code",
   "execution_count": 2,
   "metadata": {},
   "outputs": [],
   "source": [
    "range5 = data['range5']\n"
   ]
  },
  {
   "cell_type": "code",
   "execution_count": 20,
   "metadata": {},
   "outputs": [
    {
     "data": {
      "text/plain": [
       "-7.510849319229187e-06"
      ]
     },
     "execution_count": 20,
     "metadata": {},
     "output_type": "execute_result"
    }
   ],
   "source": [
    "np.mean(range5)"
   ]
  },
  {
   "cell_type": "code",
   "execution_count": 23,
   "metadata": {},
   "outputs": [
    {
     "name": "stdout",
     "output_type": "stream",
     "text": [
      "Pearson correlation coefficient: [1.00000000e+00 4.09327437e-04]\n"
     ]
    }
   ],
   "source": [
    "mean = 0  # Replace with your desired mean\n",
    "std_dev = 0.002  # Replace with your desired standard deviation\n",
    "normal_array = np.random.normal(mean, std_dev, len(range5))\n",
    "\n",
    "# Calculate the Pearson correlation coefficient\n",
    "correlation_coefficient, _ = np.corrcoef(range5, normal_array)\n",
    "\n",
    "# Print the result\n",
    "print(f'Pearson correlation coefficient: {correlation_coefficient}')\n"
   ]
  },
  {
   "cell_type": "code",
   "execution_count": 10,
   "metadata": {},
   "outputs": [
    {
     "name": "stdout",
     "output_type": "stream",
     "text": [
      "Input shape: torch.Size([2, 3, 3])\n",
      "Input:\n",
      "tensor([[[ 0.3511, -1.4718, -0.5558],\n",
      "         [ 1.3155,  1.3483, -1.0512],\n",
      "         [-1.5278,  1.0408, -0.1548]],\n",
      "\n",
      "        [[-0.9161, -0.8894,  1.5297],\n",
      "         [-0.2839,  0.9070, -0.4745],\n",
      "         [-0.7224,  0.5794, -0.2973]]])\n",
      "\n",
      "Output shape: torch.Size([2, 3, 1])\n",
      "Output:\n",
      "tensor([[[-1.4718],\n",
      "         [ 1.3483],\n",
      "         [-1.5278]],\n",
      "\n",
      "        [[-0.9161],\n",
      "         [ 0.9070],\n",
      "         [-0.7224]]])\n",
      "\n",
      "raw tensor([[[ 0.3511],\n",
      "         [ 1.3483],\n",
      "         [ 1.0408]],\n",
      "\n",
      "        [[-0.8894],\n",
      "         [ 0.9070],\n",
      "         [ 0.5794]]])\n"
     ]
    }
   ],
   "source": [
    "import torch\n",
    "import torch.nn as nn\n",
    "import torch.nn.functional as F\n",
    "\n",
    "class MaxAbsolutePooling1D(nn.Module):\n",
    "    def __init__(self, kernel_size, stride=None, padding=0, dilation=1):\n",
    "        super(MaxAbsolutePooling1D, self).__init__()\n",
    "        self.kernel_size = kernel_size\n",
    "        self.stride = stride if stride is not None else kernel_size\n",
    "        self.padding = padding\n",
    "        self.dilation = dilation\n",
    "\n",
    "    def forward(self, x):\n",
    "        # Compute the absolute values\n",
    "        abs_x = torch.abs(x)\n",
    "        \n",
    "        # Find the indices of the maximum absolute values\n",
    "        pooled_abs, indices = F.max_pool1d(abs_x, self.kernel_size, self.stride, \n",
    "                                           self.padding, self.dilation, \n",
    "                                           return_indices=True)\n",
    "        \n",
    "        # Create a tensor of indices for gathering\n",
    "        batch_size, channels, output_length = pooled_abs.shape\n",
    "        batch_indices = torch.arange(batch_size).view(-1, 1, 1).expand(-1, channels, output_length)\n",
    "        channel_indices = torch.arange(channels).view(1, -1, 1).expand(batch_size, -1, output_length)\n",
    "        \n",
    "        # Gather the original values using the indices\n",
    "        output = x[batch_indices, channel_indices, indices]\n",
    "        \n",
    "        return output\n",
    "\n",
    "# Example usage\n",
    "pool = MaxAbsolutePooling1D(kernel_size=2, stride=2)\n",
    "input_tensor = torch.randn(2, 3, 3)  # Batch size 2, 3 channels, sequence length 8\n",
    "output = pool(input_tensor)\n",
    "\n",
    "print(\"Input shape:\", input_tensor.shape)\n",
    "print(\"Input:\")\n",
    "print(input_tensor)\n",
    "print(\"\\nOutput shape:\", output.shape)\n",
    "print(\"Output:\")\n",
    "print(output)\n",
    "raw = F.max_pool1d(input_tensor, 2, 2)\n",
    "print(f\"\\nraw {raw}\")"
   ]
  },
  {
   "cell_type": "code",
   "execution_count": 1,
   "metadata": {},
   "outputs": [
    {
     "name": "stderr",
     "output_type": "stream",
     "text": [
      "2024-08-12 14:25:43.627312: I tensorflow/core/platform/cpu_feature_guard.cc:182] This TensorFlow binary is optimized to use available CPU instructions in performance-critical operations.\n",
      "To enable the following instructions: AVX2 FMA, in other operations, rebuild TensorFlow with the appropriate compiler flags.\n",
      "2024-08-12 14:25:44.521217: W tensorflow/compiler/tf2tensorrt/utils/py_utils.cc:38] TF-TRT Warning: Could not find TensorRT\n"
     ]
    },
    {
     "name": "stdout",
     "output_type": "stream",
     "text": [
      "The value of c is: 12\n",
      "The value of d is: 14\n"
     ]
    },
    {
     "name": "stderr",
     "output_type": "stream",
     "text": [
      "2024-08-12 14:25:47.078527: I tensorflow/core/common_runtime/gpu/gpu_device.cc:1639] Created device /job:localhost/replica:0/task:0/device:GPU:0 with 20454 MB memory:  -> device: 0, name: NVIDIA GeForce RTX 3090, pci bus id: 0000:81:00.0, compute capability: 8.6\n"
     ]
    }
   ],
   "source": [
    "import tensorflow as tf\n",
    "\n",
    "# Define a simple computation\n",
    "a = tf.constant(3.0)\n",
    "b = tf.constant(4.0)\n",
    "c = a * b\n",
    "\n",
    "# Print the value of c\n",
    "tf.print(\"The value of c is:\", c)\n",
    "\n",
    "# Continue with another operation\n",
    "d = c + 2.0\n",
    "\n",
    "# Print the value of d\n",
    "tf.print(\"The value of d is:\", d)\n"
   ]
  },
  {
   "cell_type": "code",
   "execution_count": null,
   "metadata": {},
   "outputs": [],
   "source": []
  }
 ],
 "metadata": {
  "kernelspec": {
   "display_name": "TSRanking",
   "language": "python",
   "name": "python3"
  },
  "language_info": {
   "codemirror_mode": {
    "name": "ipython",
    "version": 3
   },
   "file_extension": ".py",
   "mimetype": "text/x-python",
   "name": "python",
   "nbconvert_exporter": "python",
   "pygments_lexer": "ipython3",
   "version": "3.11.4"
  }
 },
 "nbformat": 4,
 "nbformat_minor": 2
}
